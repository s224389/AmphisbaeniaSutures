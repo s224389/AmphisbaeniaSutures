{
 "cells": [
  {
   "cell_type": "code",
   "execution_count": 1,
   "metadata": {},
   "outputs": [
    {
     "name": "stdout",
     "output_type": "stream",
     "text": [
      "Jupyter environment detected. Enabling Open3D WebVisualizer.\n",
      "[Open3D INFO] WebRTC GUI backend enabled.\n",
      "[Open3D INFO] WebRTCWindowSystem: HTTP handshake server disabled.\n",
      "********************************************************************************\n",
      "WARNING: Imported VTK version (9.3) does not match the one used\n",
      "         to build the TVTK classes (9.2). This may cause problems.\n",
      "         Please rebuild TVTK.\n",
      "********************************************************************************\n",
      "\n"
     ]
    }
   ],
   "source": [
    "import numpy as np\n",
    "import matplotlib.pyplot as plt\n",
    "from mpl_toolkits.mplot3d.art3d import Poly3DCollection\n",
    "from skimage import measure\n",
    "from scipy.interpolate import RegularGridInterpolator\n",
    "from scipy import signal\n",
    "import open3d as o3d\n",
    "import sympy as sp\n",
    "from scipy.optimize import curve_fit\n",
    "import sympy as sp\n",
    "from mpl_toolkits.mplot3d import Axes3D\n",
    "import nibabel as nib\n",
    "import matplotlib.animation as animation\n",
    "from IPython.display import HTML\n",
    "import matplotlib\n",
    "from ipywidgets import interactive, fixed, IntSlider\n",
    "import math\n",
    "from skimage.morphology import dilation, ball\n",
    "from skimage.morphology import skeletonize_3d, skeletonize\n",
    "from matplotlib.widgets import RectangleSelector\n",
    "from scipy.ndimage import gaussian_filter\n",
    "from mayavi import mlab\n",
    "import nibabel as nib\n",
    "from matplotlib.ticker import MaxNLocator\n"
   ]
  },
  {
   "cell_type": "code",
   "execution_count": 2,
   "metadata": {},
   "outputs": [],
   "source": [
    "points = np.load('./Agamodon_anguliceps_CAS153467/Agamodon_anguliceps_smoothed.npy')\n",
    "#points = np.load('./Angustifrons_FMNH_CNHM_161545/Angustifrons_smoothed.npy')\n",
    "#points = np.load('./Baika_africana_FMNH_152593/Baika_africana_smoothed.npy')\n",
    "#points = np.load('./Bipes_tridactylus_FMNH265140-CG5528/Bipes_tridactylus_smoothed.npy')"
   ]
  },
  {
   "cell_type": "code",
   "execution_count": 6,
   "metadata": {},
   "outputs": [],
   "source": [
    "# Load the .nii file\n",
    "img = nib.load('./Agamodon_anguliceps_CAS153467/Agamodon_anguliceps_CAS153467000.nii')\n",
    "#img = nib.load('./Angustifrons_FMNH_CNHM_161545/Angustifrons_FMNH_CNHM_161545_ds2.nii')\n",
    "#img = nib.load('./Baika_africana_FMNH_152593/Baika_africana_FMNH_152593_ds2.nii')\n",
    "#img = nib.load('./Bipes_tridactylus_FMNH265140-CG5528/Bipes_tridactylus_FMNH265140-CG5528_ds2.nii')\n",
    "\n",
    "\n",
    "data = img.get_fdata()\n",
    "\n",
    "# Display the 3D volume\n",
    "mlab.contour3d(data)\n",
    "\n",
    "# WITH SKELETON-POINTS\n",
    "mlab.points3d(points[:, 0], points[:, 1], points[:, 2], color=(1, 0, 0), scale_factor=30)\n",
    "\n",
    "mlab.show()"
   ]
  },
  {
   "cell_type": "code",
   "execution_count": 13,
   "metadata": {},
   "outputs": [],
   "source": [
    "%matplotlib qt5"
   ]
  },
  {
   "cell_type": "code",
   "execution_count": 14,
   "metadata": {},
   "outputs": [],
   "source": [
    "import matplotlib.pyplot as plt\n",
    "\n",
    "fig = plt.figure()\n",
    "ax = fig.add_subplot(111, projection='3d')\n",
    "\n",
    "ax.scatter(points[:, 0], points[:, 1], points[:, 2])\n",
    "\n",
    "ax.set_xlabel('X')\n",
    "ax.set_ylabel('Y')\n",
    "ax.set_zlabel('Z')\n",
    "\n",
    "plt.show()"
   ]
  },
  {
   "cell_type": "code",
   "execution_count": null,
   "metadata": {},
   "outputs": [],
   "source": [
    "volQ = np.load('./Agamodon_anguliceps_CAS153467/Agamodon_anguliceps_smoothed.npy')\n",
    "#volQ = np.load('./Angustifrons_FMNH_CNHM_161545/Angustifrons_smoothed.npy')\n",
    "#volQ = np.load('./Baika_africana_FMNH_152593/Baika_africana_smoothed.npy')\n",
    "#volQ = np.load('./Bipes_tridactylus_FMNH265140-CG5528/Bipes_tridactylus_smoothed.npy')"
   ]
  },
  {
   "cell_type": "code",
   "execution_count": 15,
   "metadata": {},
   "outputs": [],
   "source": [
    "import nibabel as nib\n",
    "\n",
    "name = './Bipes_tridactylus_FMNH265140-CG5528/Bipes_tridactylus_unfolded_volume.nii'\n",
    "nii_img = nib.load(name)\n",
    "# Get the data as a numpy array\n",
    "volQ = nii_img.get_fdata()"
   ]
  },
  {
   "cell_type": "code",
   "execution_count": 16,
   "metadata": {},
   "outputs": [],
   "source": [
    "from skimage.io import imsave\n",
    "volQint8 = volQ.astype(np.uint8)\n",
    "imsave('volQ_bipes.tiff', volQint8)"
   ]
  },
  {
   "cell_type": "code",
   "execution_count": null,
   "metadata": {},
   "outputs": [],
   "source": []
  }
 ],
 "metadata": {
  "kernelspec": {
   "display_name": "Python 3",
   "language": "python",
   "name": "python3"
  },
  "language_info": {
   "codemirror_mode": {
    "name": "ipython",
    "version": 3
   },
   "file_extension": ".py",
   "mimetype": "text/x-python",
   "name": "python",
   "nbconvert_exporter": "python",
   "pygments_lexer": "ipython3",
   "version": "3.11.0"
  }
 },
 "nbformat": 4,
 "nbformat_minor": 2
}
